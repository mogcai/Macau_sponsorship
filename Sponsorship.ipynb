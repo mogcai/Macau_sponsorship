{
 "cells": [
  {
   "cell_type": "code",
   "execution_count": 55,
   "metadata": {},
   "outputs": [],
   "source": [
    "import requests\n",
    "import pandas as pd"
   ]
  },
  {
   "cell_type": "code",
   "execution_count": 62,
   "metadata": {},
   "outputs": [],
   "source": [
    "# url='https://www.dsgap.gov.mo/pafp/api/fund/'\n",
    "\n",
    "def get_sponsor_lst(name):\n",
    "    url=f'https://www.dsgap.gov.mo/pafp/api/sponsorship/{name}/'\n",
    "    headers = {'User-Agent': 'Mozilla/5.0 (Macintosh; Intel Mac OS X 10_10_1) AppleWebKit/537.36 (KHTML, like Gecko) Chrome/39.0.2171.95 Safari/537.36'}\n",
    "    r=requests.get(url, headers=headers)\n",
    "    data=r.json()\n",
    "    lst=[i['id'] for i in data]\n",
    "\n",
    "    lst_sponsor=[]\n",
    "    for id in lst:\n",
    "        url2=f'https://www.dsgap.gov.mo/pafp/api/sponsorship/{name}/{id}'\n",
    "        r=requests.get(url2, headers=headers)\n",
    "        sponsor=r.json()\n",
    "        sponsor\n",
    "        lst_sponsor.append(sponsor)\n",
    "    return lst_sponsor"
   ]
  },
  {
   "cell_type": "code",
   "execution_count": 63,
   "metadata": {},
   "outputs": [],
   "source": [
    "lst_name=['fm', 'ipim']\n",
    "\n",
    "def get_sponsor_df(name):\n",
    "    data=get_sponsor_lst(name)\n",
    "    sponsor=[j for i in data for j in i['mergedRevisionItems']]\n",
    "    df=pd.DataFrame(sponsor)\n",
    "    return df\n",
    "\n",
    "name=lst_name[1]\n",
    "df=get_sponsor_df(name)"
   ]
  },
  {
   "cell_type": "code",
   "execution_count": 65,
   "metadata": {},
   "outputs": [],
   "source": [
    "df.to_excel('tmp.xlsx')"
   ]
  },
  {
   "cell_type": "code",
   "execution_count": null,
   "metadata": {},
   "outputs": [],
   "source": []
  }
 ],
 "metadata": {
  "kernelspec": {
   "display_name": ".venv",
   "language": "python",
   "name": "python3"
  },
  "language_info": {
   "codemirror_mode": {
    "name": "ipython",
    "version": 3
   },
   "file_extension": ".py",
   "mimetype": "text/x-python",
   "name": "python",
   "nbconvert_exporter": "python",
   "pygments_lexer": "ipython3",
   "version": "3.12.0"
  }
 },
 "nbformat": 4,
 "nbformat_minor": 2
}
