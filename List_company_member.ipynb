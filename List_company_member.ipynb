{
 "cells": [
  {
   "cell_type": "code",
   "execution_count": 1,
   "metadata": {},
   "outputs": [],
   "source": [
    "import requests\n",
    "from bs4 import BeautifulSoup\n",
    "import pandas as pd\n",
    "import io"
   ]
  },
  {
   "cell_type": "code",
   "execution_count": 27,
   "metadata": {},
   "outputs": [],
   "source": [
    "def get_member_list(ticker='0001.HK'):\n",
    "    url=f'https://finance.yahoo.com/quote/{ticker}/profile/'\n",
    "    headers = {'User-Agent': 'Mozilla/5.0 (Macintosh; Intel Mac OS X 10_10_1) AppleWebKit/537.36 (KHTML, like Gecko) Chrome/39.0.2171.95 Safari/537.36'}\n",
    "    r=requests.get(url, headers=headers)\n",
    "    df=pd.read_html(r.text, attrs = {\"class\":'svelte-mj92za'})[0]\n",
    "    member=df['Name'].to_list()\n",
    "\n",
    "    soup = BeautifulSoup(r.text, 'html.parser')\n",
    "    company=soup.find('h1', {'class': 'svelte-3a2v0c'}).text\n",
    "    return (company, member)\n"
   ]
  },
  {
   "cell_type": "code",
   "execution_count": 28,
   "metadata": {},
   "outputs": [
    {
     "name": "stderr",
     "output_type": "stream",
     "text": [
      "/var/folders/6v/7gn8h4gn4cg1j7my18cmr5340000gn/T/ipykernel_65412/1812631573.py:5: FutureWarning: Passing literal html to 'read_html' is deprecated and will be removed in a future version. To read from a literal string, wrap it in a 'StringIO' object.\n",
      "  df=pd.read_html(r.text, attrs = {\"class\":'svelte-mj92za'})[0]\n"
     ]
    },
    {
     "data": {
      "text/plain": [
       "('CK Hutchison Holdings Limited (0001.HK)',\n",
       " ['Mr. Tzar Kuoi Li B.Sc., LLD, LLD (Hon), M.Sc.',\n",
       "  'Mr. Frank John Sixt M.A.',\n",
       "  'Mr. Kai Ming Lai B.Sc., M.B.A.',\n",
       "  'Mr. Kin Ning Fok BA, DFM, F.C.A., FCA (ANZ)',\n",
       "  'Mr. Hing Lam Kam B.Sc., B.ScE, M.B.A.',\n",
       "  'Mr. Edmond Tak Chuen IP B.A., M.Sc.',\n",
       "  'Ms. Edith Shih BSE, C.S., CGP, EdM, FCIS, FCS, FCS(PE), M.A., P.E',\n",
       "  'Mr. Ka Keung Man',\n",
       "  'Mr. Hans Leung',\n",
       "  'Mr. Ka-shing Li GBM, KBE, LLD (Hon), DSSc (Hon)'])"
      ]
     },
     "execution_count": 28,
     "metadata": {},
     "output_type": "execute_result"
    }
   ],
   "source": [
    "get_member_list()"
   ]
  },
  {
   "cell_type": "code",
   "execution_count": null,
   "metadata": {},
   "outputs": [],
   "source": []
  }
 ],
 "metadata": {
  "kernelspec": {
   "display_name": ".venv",
   "language": "python",
   "name": "python3"
  },
  "language_info": {
   "codemirror_mode": {
    "name": "ipython",
    "version": 3
   },
   "file_extension": ".py",
   "mimetype": "text/x-python",
   "name": "python",
   "nbconvert_exporter": "python",
   "pygments_lexer": "ipython3",
   "version": "3.9.4"
  }
 },
 "nbformat": 4,
 "nbformat_minor": 2
}
